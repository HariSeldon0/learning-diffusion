{
 "cells": [
  {
   "cell_type": "code",
   "execution_count": 2,
   "id": "02fbca38",
   "metadata": {},
   "outputs": [],
   "source": [
    "import torch\n",
    "from torch.utils.data import DataLoader\n",
    "from torchvision import datasets, transforms\n",
    "from torch import nn\n",
    "import torch.nn.functional as F\n",
    "import matplotlib.pyplot as plt\n",
    "from torchvision.utils import make_grid, save_image\n",
    "import math"
   ]
  },
  {
   "cell_type": "code",
   "execution_count": null,
   "id": "916ffd7f",
   "metadata": {},
   "outputs": [
    {
     "name": "stdout",
     "output_type": "stream",
     "text": [
      "Files already downloaded and verified\n",
      "Files already downloaded and verified\n"
     ]
    }
   ],
   "source": [
    "DATASET = 'CIFAR10'\n",
    "batch_size = 512\n",
    "\n",
    "if DATASET == 'CIFAR10': # 3 * 32 * 32\n",
    "    norm_mean = torch.tensor([0.4914, 0.4822, 0.4465])\n",
    "    norm_std = torch.tensor([0.2470, 0.2435, 0.2616])\n",
    "    transform = transforms.Compose([\n",
    "        transforms.ToTensor(),\n",
    "        #transforms.Normalize(norm_mean, norm_std)\n",
    "    ])\n",
    "    train_set = datasets.CIFAR10(root='./data', train=True, download=True, transform=transform)\n",
    "    test_set = datasets.CIFAR10(root='./data', train=False, download=True, transform=transform)\n",
    "\n",
    "    train_dataloader = DataLoader(train_set, batch_size=batch_size, shuffle=True, num_workers=10)\n",
    "    test_dataloader = DataLoader(test_set, batch_size=batch_size, num_workers=10)\n",
    "    \n",
    "    clamp_min, clamp_max = 0.0, 1.0\n",
    "    \n",
    "elif DATASET == 'MNIST':\n",
    "    transform_MNIST = transforms.Compose([\n",
    "        transforms.ToTensor(),\n",
    "    ])\n",
    "    train_set_MNIST = datasets.MNIST(root='./data', train=True, download=True, transform=transform_MNIST)\n",
    "    test_set_MNIST = datasets.MNIST(root='./data', train=False, download=True, transform=transform_MNIST)\n",
    "\n",
    "    train_dataloader = DataLoader(train_set_MNIST, batch_size=batch_size, shuffle=True, num_workers=10)\n",
    "    test_dataloader = DataLoader(test_set_MNIST, batch_size=batch_size, num_workers=10)\n",
    "else:\n",
    "    raise ValueError()"
   ]
  },
  {
   "cell_type": "code",
   "execution_count": 65,
   "id": "8232996f",
   "metadata": {},
   "outputs": [
    {
     "data": {
      "text/plain": [
       "torch.Size([512, 3, 32, 32])"
      ]
     },
     "execution_count": 65,
     "metadata": {},
     "output_type": "execute_result"
    }
   ],
   "source": [
    "next(iter(train_dataloader))[0].shape"
   ]
  },
  {
   "cell_type": "markdown",
   "id": "8c6ea65e",
   "metadata": {},
   "source": [
    "# Training EBMs using MLE with MCMC sampling"
   ]
  },
  {
   "cell_type": "code",
   "execution_count": 6,
   "id": "94ed6060",
   "metadata": {},
   "outputs": [],
   "source": [
    "import torch\n",
    "import torch.nn as nn\n",
    "\n",
    "# Model p(x) = e^{-E(x)} / Z\n",
    "class EBM(nn.Module):\n",
    "    def __init__(self, hidden_dim=256):\n",
    "        super(EBM, self).__init__()\n",
    "        \n",
    "        def gn(c):  # GroupNorm helper\n",
    "            return nn.GroupNorm(num_groups=32, num_channels=c)\n",
    "\n",
    "        self.conv_net = nn.Sequential(\n",
    "            nn.Conv2d(3, 64, kernel_size=3, stride=1, padding=1),  # 32x32\n",
    "            gn(64),\n",
    "            nn.ReLU(inplace=True),\n",
    "\n",
    "            nn.Conv2d(64, 128, kernel_size=4, stride=2, padding=1),  # 16x16\n",
    "            gn(128),\n",
    "            nn.ReLU(inplace=True),\n",
    "\n",
    "            nn.Conv2d(128, 256, kernel_size=4, stride=2, padding=1),  # 8x8\n",
    "            gn(256),\n",
    "            nn.ReLU(inplace=True),\n",
    "\n",
    "            nn.Conv2d(256, 512, kernel_size=4, stride=2, padding=1),  # 4x4\n",
    "            gn(512),\n",
    "            nn.ReLU(inplace=True),\n",
    "        )\n",
    "        \n",
    "        self.fc = nn.Sequential(\n",
    "            nn.Flatten(),\n",
    "            nn.Linear(512*4*4, hidden_dim),\n",
    "            nn.ReLU(inplace=True),\n",
    "            nn.Linear(hidden_dim, 1)\n",
    "        )\n",
    "    \n",
    "    def forward(self, x):\n",
    "        feat = self.conv_net(x)\n",
    "        energy = self.fc(feat)\n",
    "        return energy.squeeze(-1)\n",
    "    \n",
    "\n",
    "class MNIST_EBM(nn.Module):\n",
    "    def __init__(self, hidden_dim=256):\n",
    "        super(MNIST_EBM, self).__init__()\n",
    "        \n",
    "        def gn(c):  # GroupNorm helper\n",
    "            # 对于小通道数，设 num_groups=8 更稳定\n",
    "            return nn.GroupNorm(num_groups=8, num_channels=c)\n",
    "\n",
    "        self.conv_net = nn.Sequential(\n",
    "            nn.Conv2d(1, 64, kernel_size=3, stride=1, padding=1),  # 28x28\n",
    "            gn(64),\n",
    "            nn.ReLU(inplace=True),\n",
    "\n",
    "            nn.Conv2d(64, 128, kernel_size=4, stride=2, padding=1),  # 14x14\n",
    "            gn(128),\n",
    "            nn.ReLU(inplace=True),\n",
    "\n",
    "            nn.Conv2d(128, 256, kernel_size=4, stride=2, padding=1),  # 7x7\n",
    "            gn(256),\n",
    "            nn.ReLU(inplace=True),\n",
    "\n",
    "            nn.Conv2d(256, 512, kernel_size=3, stride=2, padding=1),  # 4x4\n",
    "            gn(512),\n",
    "            nn.ReLU(inplace=True),\n",
    "        )\n",
    "        \n",
    "        self.fc = nn.Sequential(\n",
    "            nn.Flatten(),\n",
    "            nn.Linear(512*4*4, hidden_dim),\n",
    "            nn.ReLU(inplace=True),\n",
    "            nn.Linear(hidden_dim, 1)\n",
    "        )\n",
    "    \n",
    "    def forward(self, x):\n",
    "        feat = self.conv_net(x)\n",
    "        energy = self.fc(feat)\n",
    "        return energy.squeeze(-1)\n",
    "\n"
   ]
  },
  {
   "cell_type": "code",
   "execution_count": 8,
   "id": "835e62d1",
   "metadata": {},
   "outputs": [],
   "source": [
    "def langevin_sampling(model, x_init, n_steps=200, step_size=0.01, noise_scale=0.01, clamp=(-1, 1)):\n",
    "    \"\"\"\n",
    "    从能量模型采样\n",
    "    Args:\n",
    "        x_init: 初始图像, shape (B, C, H, W)\n",
    "        model: EBM\n",
    "        n_steps: Langevin 步数\n",
    "        step_size: 梯度步长\n",
    "        noise_scale: 噪声尺度\n",
    "        clamp: 图像值范围\n",
    "    Returns:\n",
    "        x_neg: 采样后的图像\n",
    "    \"\"\"\n",
    "    x: torch.Tensor = x_init.clone().detach()\n",
    "    for _ in range(n_steps):\n",
    "        x.requires_grad_(True)\n",
    "        energy = model(x)\n",
    "        grad = torch.autograd.grad(energy.sum(), x)[0]\n",
    "        # Langevin 更新\n",
    "        noise = torch.randn_like(x) * noise_scale\n",
    "        x = x - 0.5 * step_size * grad + noise\n",
    "        # 保持像素范围 [0,1]\n",
    "        x = x.clamp(*clamp).detach()\n",
    "    return x\n"
   ]
  },
  {
   "cell_type": "code",
   "execution_count": 9,
   "id": "1ad51910",
   "metadata": {},
   "outputs": [
    {
     "name": "stdout",
     "output_type": "stream",
     "text": [
      "Epoch:  0\n",
      "E: 0.182797, LogZ: -0.000987 [  0/391]\n",
      "E: -5.270617, LogZ: -0.051595 [ 50/391]\n",
      "E: -17.453487, LogZ: -0.156516 [100/391]\n",
      "E: -29.700352, LogZ: -0.256825 [150/391]\n",
      "E: -42.445961, LogZ: -0.354225 [200/391]\n",
      "E: -55.473385, LogZ: -0.453241 [250/391]\n",
      "E: -68.591499, LogZ: -0.554678 [300/391]\n",
      "E: -82.149376, LogZ: -0.658314 [350/391]\n",
      "E: -93.167671, LogZ: -0.743219 [390/391]\n",
      "Epoch:  1\n",
      "E: -93.398224, LogZ: -0.745457 [  0/391]\n",
      "E: -107.527107, LogZ: -0.853123 [ 50/391]\n",
      "E: -121.769760, LogZ: -0.963758 [100/391]\n",
      "E: -136.862091, LogZ: -1.077994 [150/391]\n",
      "E: -152.158417, LogZ: -1.195213 [200/391]\n",
      "E: -167.910721, LogZ: -1.315781 [250/391]\n",
      "E: -183.992401, LogZ: -1.439725 [300/391]\n",
      "E: -200.719711, LogZ: -1.567442 [350/391]\n",
      "E: -214.400421, LogZ: -1.672557 [390/391]\n",
      "Epoch:  2\n",
      "E: -214.770416, LogZ: -1.675282 [  0/391]\n",
      "E: -232.212524, LogZ: -1.809535 [ 50/391]\n",
      "E: -250.293243, LogZ: -1.948158 [100/391]\n",
      "E: -267.929504, LogZ: -2.089964 [150/391]\n",
      "E: -287.836060, LogZ: -2.235832 [200/391]\n",
      "E: -307.319397, LogZ: -2.385225 [250/391]\n",
      "E: -327.325256, LogZ: -2.538494 [300/391]\n",
      "E: -347.936371, LogZ: -2.695684 [350/391]\n",
      "E: -364.705872, LogZ: -2.824337 [390/391]\n",
      "Epoch:  3\n",
      "E: -365.075684, LogZ: -2.827612 [  0/391]\n",
      "E: -386.638916, LogZ: -2.991578 [ 50/391]\n",
      "E: -408.637939, LogZ: -3.159663 [100/391]\n",
      "E: -431.116821, LogZ: -3.331295 [150/391]\n",
      "E: -454.112091, LogZ: -3.507103 [200/391]\n",
      "E: -477.603973, LogZ: -3.686499 [250/391]\n",
      "E: -501.631622, LogZ: -3.869984 [300/391]\n",
      "E: -526.185669, LogZ: -4.057115 [350/391]\n",
      "E: -546.283447, LogZ: -4.209477 [390/391]\n",
      "Epoch:  4\n",
      "E: -546.265808, LogZ: -4.213354 [  0/391]\n",
      "E: -572.207825, LogZ: -4.407345 [ 50/391]\n",
      "E: -598.253601, LogZ: -4.605267 [100/391]\n",
      "E: -624.706238, LogZ: -4.803609 [150/391]\n",
      "E: -651.697876, LogZ: -5.012177 [200/391]\n",
      "E: -679.155334, LogZ: -5.221206 [250/391]\n",
      "E: -700.913635, LogZ: -5.433894 [300/391]\n",
      "E: -735.626343, LogZ: -5.650240 [350/391]\n",
      "E: -758.717834, LogZ: -5.826156 [390/391]\n"
     ]
    }
   ],
   "source": [
    "# train\n",
    "epochs = 5\n",
    "device = torch.device('cuda' if torch.cuda.is_available() else 'cpu')\n",
    "learning_rate = 1e-5\n",
    "\n",
    "# MCMC\n",
    "sample_batchsize = 128\n",
    "step_size = 0.01\n",
    "n_steps = 100\n",
    "\n",
    "image_size = (3, 32, 32)\n",
    "model = EBM(256).to(device)\n",
    "optimizer = torch.optim.Adam(model.parameters(), lr=learning_rate)\n",
    "\n",
    "for epoch in range(epochs):\n",
    "    print(\"Epoch: \", epoch)\n",
    "    epoch_nums = len(train_dataloader)\n",
    "    for idx, (X, _) in enumerate(train_dataloader):\n",
    "        X = X.to(device)\n",
    "        E = model(X).mean()\n",
    "        x0 = torch.randn(sample_batchsize, *image_size).to(device)\n",
    "        samples = langevin_sampling(model, x0)\n",
    "        logZ = -model(samples).mean()\n",
    "        loss = E + logZ\n",
    "        \n",
    "        optimizer.zero_grad()\n",
    "        loss.backward()\n",
    "        optimizer.step()\n",
    "        \n",
    "        if idx % 50 == 0 or idx == epoch_nums - 1:\n",
    "            print(f\"E: {E:>7f}, LogZ: {1.0 / batch_size * logZ:>7f} [{idx:>3d}/{epoch_nums:>3d}]\")"
   ]
  },
  {
   "cell_type": "code",
   "execution_count": 1,
   "id": "e4e07f7d",
   "metadata": {},
   "outputs": [
    {
     "ename": "NameError",
     "evalue": "name 'model' is not defined",
     "output_type": "error",
     "traceback": [
      "\u001b[0;31m---------------------------------------------------------------------------\u001b[0m",
      "\u001b[0;31mNameError\u001b[0m                                 Traceback (most recent call last)",
      "Cell \u001b[0;32mIn[1], line 3\u001b[0m\n\u001b[1;32m      1\u001b[0m n_samples \u001b[38;5;241m=\u001b[39m \u001b[38;5;241m5\u001b[39m\n\u001b[0;32m----> 3\u001b[0m \u001b[43mmodel\u001b[49m\u001b[38;5;241m.\u001b[39meval()\n\u001b[1;32m      5\u001b[0m \u001b[38;5;66;03m# 初始噪声\u001b[39;00m\n\u001b[1;32m      6\u001b[0m x_init \u001b[38;5;241m=\u001b[39m torch\u001b[38;5;241m.\u001b[39mrand(n_samples, \u001b[38;5;241m3\u001b[39m, \u001b[38;5;241m32\u001b[39m, \u001b[38;5;241m32\u001b[39m, device\u001b[38;5;241m=\u001b[39mdevice)\n",
      "\u001b[0;31mNameError\u001b[0m: name 'model' is not defined"
     ]
    }
   ],
   "source": [
    "n_samples = 5\n",
    "\n",
    "model.eval()\n",
    "\n",
    "# 初始噪声\n",
    "x_init = torch.rand(n_samples, 3, 32, 32, device=device)\n",
    "\n",
    "# 使用训练时的 Langevin 更新函数\n",
    "x = langevin_sampling(model, x_init, n_steps=10000)\n",
    "\n",
    "# 可视化：保存一个网格\n",
    "grid = make_grid(x.cpu(), nrow=8, normalize=True, scale_each=True)\n",
    "plt.figure(figsize=(8, 8))\n",
    "plt.axis(\"off\")\n",
    "plt.title(\"Langevin Samples\")\n",
    "plt.imshow(grid.permute(1, 2, 0))"
   ]
  },
  {
   "cell_type": "markdown",
   "id": "ad8e1c1c",
   "metadata": {},
   "source": [
    "# Score Matching"
   ]
  },
  {
   "cell_type": "markdown",
   "id": "4fb8da86",
   "metadata": {},
   "source": [
    "## Model fitting"
   ]
  },
  {
   "cell_type": "code",
   "execution_count": 86,
   "id": "ca6e541d",
   "metadata": {},
   "outputs": [],
   "source": [
    "class ResidualBlock(nn.Module):\n",
    "    def __init__(self, in_channels, out_channels):\n",
    "        super().__init__()\n",
    "        self.block = nn.Sequential(\n",
    "            nn.Conv2d(in_channels, out_channels, 3, padding=1),\n",
    "            nn.GroupNorm(8, out_channels),\n",
    "            nn.SiLU(),\n",
    "            nn.Conv2d(out_channels, out_channels, 3, padding=1),\n",
    "            nn.GroupNorm(8, out_channels)\n",
    "        )\n",
    "        self.shortcut = nn.Conv2d(in_channels, out_channels, 1) if in_channels != out_channels else nn.Identity()\n",
    "        self.act = nn.SiLU()\n",
    "\n",
    "    def forward(self, x):\n",
    "        return self.act(self.block(x) + self.shortcut(x))\n",
    "\n",
    "class ScoreCNN(nn.Module):\n",
    "    def __init__(self, channels=3):\n",
    "        super().__init__()\n",
    "        self.net = nn.Sequential(\n",
    "            nn.Conv2d(channels, 64, 3, padding=1),\n",
    "            nn.SiLU(),\n",
    "            ResidualBlock(64, 128),\n",
    "            nn.AvgPool2d(2),\n",
    "            ResidualBlock(128, 128),\n",
    "            nn.AvgPool2d(2),\n",
    "            ResidualBlock(128, 128),\n",
    "            nn.Upsample(scale_factor=2, mode='nearest'),\n",
    "            ResidualBlock(128, 128),\n",
    "            nn.Upsample(scale_factor=2, mode='nearest'),\n",
    "            ResidualBlock(128, 64),\n",
    "            nn.Conv2d(64, channels, 3, padding=1)\n",
    "        )\n",
    "\n",
    "    def forward(self, x):\n",
    "        return self.net(x)"
   ]
  },
  {
   "cell_type": "code",
   "execution_count": null,
   "id": "331435ff",
   "metadata": {},
   "outputs": [],
   "source": [
    "# Denoising score matching\n",
    "device = torch.device('cuda')\n",
    "\n",
    "lr = 1e-3\n",
    "epoch_nums = 150\n",
    "noise_scale = 0.01\n",
    "\n",
    "model = ScoreCNN().to(device)\n",
    "optimizer = torch.optim.AdamW(model.parameters(), lr=lr)\n",
    "\n",
    "with open('./log.txt', \"w\") as f:\n",
    "    f.write()\n",
    "\n",
    "for epoch in range(epoch_nums):\n",
    "    for idx, (x, _) in enumerate(train_dataloader):\n",
    "        x = x.to(device)\n",
    "        x_noise = x + noise_scale * torch.randn_like(x)\n",
    "        score = model(x_noise)\n",
    "        target = (x - x_noise) / (noise_scale ** 2)\n",
    "        loss = ((score - target) ** 2).sum(dim=(1, 2, 3)).mean()\n",
    "        \n",
    "        optimizer.zero_grad()\n",
    "        loss.backward()\n",
    "        optimizer.step()\n",
    "        total_norm = 0\n",
    "        nums = 0\n",
    "        #for p in model.parameters():\n",
    "        #    if p.grad is not None:\n",
    "        #        total_norm += p.grad.data.norm(2).item()\n",
    "        #        nums += 1\n",
    "        #print(\"grad norm:\", total_norm / nums)\n",
    "    message = f\"epoch:{epoch}, loss:{loss.item()}\"\n",
    "    print(message)\n",
    "    with open('./log.txt', \"a\") as f:\n",
    "         f.write(message + \"\\n\")\n",
    "    \n",
    "        "
   ]
  },
  {
   "cell_type": "markdown",
   "id": "b5e29323",
   "metadata": {},
   "source": [
    "## LangevinMCMC Sampling"
   ]
  },
  {
   "cell_type": "code",
   "execution_count": 69,
   "id": "6ac4ce9b",
   "metadata": {},
   "outputs": [],
   "source": [
    "def LangevinMCMC(score: nn.Module, x_init: torch.Tensor, step_size=0.01, n_steps=200, clamp=[-0.1, 1.1]):\n",
    "    noise_scale = torch.sqrt(torch.tensor(2 * step_size))\n",
    "    x = x_init.detach().clone()\n",
    "    with torch.no_grad():\n",
    "        for idx in range(n_steps):\n",
    "            x = x + step_size * score(x) + noise_scale * torch.randn_like(x)\n",
    "            x = x.clamp(*clamp)\n",
    "    return x\n"
   ]
  },
  {
   "cell_type": "code",
   "execution_count": 134,
   "id": "00effb3f",
   "metadata": {},
   "outputs": [
    {
     "name": "stderr",
     "output_type": "stream",
     "text": [
      "/tmp/ipykernel_274275/4204980143.py:3: FutureWarning: You are using `torch.load` with `weights_only=False` (the current default value), which uses the default pickle module implicitly. It is possible to construct malicious pickle data which will execute arbitrary code during unpickling (See https://github.com/pytorch/pytorch/blob/main/SECURITY.md#untrusted-models for more details). In a future release, the default value for `weights_only` will be flipped to `True`. This limits the functions that could be executed during unpickling. Arbitrary objects will no longer be allowed to be loaded via this mode unless they are explicitly allowlisted by the user via `torch.serialization.add_safe_globals`. We recommend you start setting `weights_only=True` for any use case where you don't have full control of the loaded file. Please open an issue on GitHub for any issues related to this experimental feature.\n",
      "  checkpoint = torch.load(checkpoint_path, map_location='cpu')\n"
     ]
    },
    {
     "data": {
      "text/plain": [
       "ScoreCNN(\n",
       "  (net): Sequential(\n",
       "    (0): Conv2d(3, 64, kernel_size=(3, 3), stride=(1, 1), padding=(1, 1))\n",
       "    (1): SiLU()\n",
       "    (2): ResidualBlock(\n",
       "      (block): Sequential(\n",
       "        (0): Conv2d(64, 128, kernel_size=(3, 3), stride=(1, 1), padding=(1, 1))\n",
       "        (1): GroupNorm(8, 128, eps=1e-05, affine=True)\n",
       "        (2): SiLU()\n",
       "        (3): Conv2d(128, 128, kernel_size=(3, 3), stride=(1, 1), padding=(1, 1))\n",
       "        (4): GroupNorm(8, 128, eps=1e-05, affine=True)\n",
       "      )\n",
       "      (shortcut): Conv2d(64, 128, kernel_size=(1, 1), stride=(1, 1))\n",
       "      (act): SiLU()\n",
       "    )\n",
       "    (3): AvgPool2d(kernel_size=2, stride=2, padding=0)\n",
       "    (4): ResidualBlock(\n",
       "      (block): Sequential(\n",
       "        (0): Conv2d(128, 128, kernel_size=(3, 3), stride=(1, 1), padding=(1, 1))\n",
       "        (1): GroupNorm(8, 128, eps=1e-05, affine=True)\n",
       "        (2): SiLU()\n",
       "        (3): Conv2d(128, 128, kernel_size=(3, 3), stride=(1, 1), padding=(1, 1))\n",
       "        (4): GroupNorm(8, 128, eps=1e-05, affine=True)\n",
       "      )\n",
       "      (shortcut): Identity()\n",
       "      (act): SiLU()\n",
       "    )\n",
       "    (5): AvgPool2d(kernel_size=2, stride=2, padding=0)\n",
       "    (6): ResidualBlock(\n",
       "      (block): Sequential(\n",
       "        (0): Conv2d(128, 128, kernel_size=(3, 3), stride=(1, 1), padding=(1, 1))\n",
       "        (1): GroupNorm(8, 128, eps=1e-05, affine=True)\n",
       "        (2): SiLU()\n",
       "        (3): Conv2d(128, 128, kernel_size=(3, 3), stride=(1, 1), padding=(1, 1))\n",
       "        (4): GroupNorm(8, 128, eps=1e-05, affine=True)\n",
       "      )\n",
       "      (shortcut): Identity()\n",
       "      (act): SiLU()\n",
       "    )\n",
       "    (7): Upsample(scale_factor=2.0, mode='nearest')\n",
       "    (8): ResidualBlock(\n",
       "      (block): Sequential(\n",
       "        (0): Conv2d(128, 128, kernel_size=(3, 3), stride=(1, 1), padding=(1, 1))\n",
       "        (1): GroupNorm(8, 128, eps=1e-05, affine=True)\n",
       "        (2): SiLU()\n",
       "        (3): Conv2d(128, 128, kernel_size=(3, 3), stride=(1, 1), padding=(1, 1))\n",
       "        (4): GroupNorm(8, 128, eps=1e-05, affine=True)\n",
       "      )\n",
       "      (shortcut): Identity()\n",
       "      (act): SiLU()\n",
       "    )\n",
       "    (9): Upsample(scale_factor=2.0, mode='nearest')\n",
       "    (10): ResidualBlock(\n",
       "      (block): Sequential(\n",
       "        (0): Conv2d(128, 64, kernel_size=(3, 3), stride=(1, 1), padding=(1, 1))\n",
       "        (1): GroupNorm(8, 64, eps=1e-05, affine=True)\n",
       "        (2): SiLU()\n",
       "        (3): Conv2d(64, 64, kernel_size=(3, 3), stride=(1, 1), padding=(1, 1))\n",
       "        (4): GroupNorm(8, 64, eps=1e-05, affine=True)\n",
       "      )\n",
       "      (shortcut): Conv2d(128, 64, kernel_size=(1, 1), stride=(1, 1))\n",
       "      (act): SiLU()\n",
       "    )\n",
       "    (11): Conv2d(64, 3, kernel_size=(3, 3), stride=(1, 1), padding=(1, 1))\n",
       "  )\n",
       ")"
      ]
     },
     "execution_count": 134,
     "metadata": {},
     "output_type": "execute_result"
    }
   ],
   "source": [
    "# 加载模型\n",
    "def load_ddp_checkpoint_to_model(model, checkpoint_path='checkpoint.pt'):\n",
    "    checkpoint = torch.load(checkpoint_path, map_location='cpu')\n",
    "    state_dict = checkpoint['model']\n",
    "    \n",
    "    # 去掉 'module.' 前缀\n",
    "    new_state_dict = {k.replace('module.', ''): v for k, v in state_dict.items()}\n",
    "    model.load_state_dict(new_state_dict)\n",
    "    return model\n",
    "\n",
    "\n",
    "model = ScoreCNN().to(device)\n",
    "load_ddp_checkpoint_to_model(model, checkpoint_path='v2-checkpoint.pt')"
   ]
  },
  {
   "cell_type": "code",
   "execution_count": 137,
   "id": "9c03897c",
   "metadata": {},
   "outputs": [
    {
     "data": {
      "text/plain": [
       "<matplotlib.image.AxesImage at 0x7eff8053cd30>"
      ]
     },
     "execution_count": 137,
     "metadata": {},
     "output_type": "execute_result"
    },
    {
     "data": {
      "image/png": "[encoded data removed]",
      "text/plain": [
       "<Figure size 800x800 with 1 Axes>"
      ]
     },
     "metadata": {},
     "output_type": "display_data"
    }
   ],
   "source": [
    "n_samples = 5\n",
    "\n",
    "model.eval()\n",
    "\n",
    "# 初始噪声\n",
    "x_init = torch.rand(n_samples, 3, 32, 32, device=device)\n",
    "\n",
    "# 使用训练时的 Langevin 更新函数\n",
    "x = LangevinMCMC(model, x_init, n_steps=1000, clamp=[0, 1])\n",
    "\n",
    "\n",
    "# 可视化：保存一个网格\n",
    "grid = make_grid(x.cpu(), nrow=8, normalize=True, scale_each=True)\n",
    "plt.figure(figsize=(8, 8))\n",
    "plt.axis(\"off\")\n",
    "plt.title(\"Langevin Samples\")\n",
    "plt.imshow(grid.permute(1, 2, 0))"
   ]
  },
  {
   "cell_type": "markdown",
   "id": "f90d23d9",
   "metadata": {},
   "source": [
    "### 检验LangevinMCMC的正确性"
   ]
  },
  {
   "cell_type": "code",
   "execution_count": 145,
   "id": "25c79d92",
   "metadata": {},
   "outputs": [],
   "source": [
    "def Gaussian_score(x):\n",
    "    return -x\n",
    "\n",
    "x_init = torch.rand(1000) * 10 - 5 # Uniform[-5, 5)\n",
    "samples = LangevinMCMC(Gaussian_score, x_init, clamp=(-5, 5))"
   ]
  },
  {
   "cell_type": "code",
   "execution_count": 146,
   "id": "20d2f655",
   "metadata": {},
   "outputs": [
    {
     "name": "stdout",
     "output_type": "stream",
     "text": [
      "K-S statistic = 0.0403, p-value = 0.0754\n",
      "Shapiro-Wilk statistic = 0.9983, p-value = 0.4050\n"
     ]
    }
   ],
   "source": [
    "from scipy.stats import kstest, norm, shapiro\n",
    "\n",
    "# 假设你的样本为 x\n",
    "stat, p_value = kstest(samples, 'norm')\n",
    "print(f\"K-S statistic = {stat:.4f}, p-value = {p_value:.4f}\")\n",
    "\n",
    "stat, p_value = shapiro(samples)\n",
    "print(f\"Shapiro-Wilk statistic = {stat:.4f}, p-value = {p_value:.4f}\")"
   ]
  },
  {
   "cell_type": "code",
   "execution_count": 147,
   "id": "b34db67a",
   "metadata": {},
   "outputs": [
    {
     "data": {
      "image/png": "[encoded data removed]",
      "text/plain": [
       "<Figure size 640x480 with 1 Axes>"
      ]
     },
     "metadata": {},
     "output_type": "display_data"
    }
   ],
   "source": [
    "import matplotlib.pyplot as plt\n",
    "import numpy as np\n",
    "from scipy.stats import norm\n",
    "\n",
    "plt.hist(samples, bins=30, density=True, alpha=0.6, color='g')\n",
    "xmin, xmax = plt.xlim()\n",
    "x_axis = np.linspace(xmin, xmax, 100)\n",
    "plt.plot(x_axis, norm.pdf(x_axis, 0, 1), 'r--', linewidth=2)\n",
    "plt.title(\"Histogram vs. N(0,1) PDF\")\n",
    "plt.show()\n"
   ]
  }
 ],
 "metadata": {
  "kernelspec": {
   "display_name": "diffusion",
   "language": "python",
   "name": "python3"
  },
  "language_info": {
   "codemirror_mode": {
    "name": "ipython",
    "version": 3
   },
   "file_extension": ".py",
   "mimetype": "text/x-python",
   "name": "python",
   "nbconvert_exporter": "python",
   "pygments_lexer": "ipython3",
   "version": "3.10.18"
  }
 },
 "nbformat": 4,
 "nbformat_minor": 5
}
