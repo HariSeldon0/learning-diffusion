{
 "cells": [
  {
   "cell_type": "code",
   "execution_count": null,
   "id": "02fbca38",
   "metadata": {},
   "outputs": [],
   "source": [
    "import torch\n",
    "from torch.utils.data import DataLoader\n",
    "from torchvision import datasets, transforms\n",
    "from torch import nn\n",
    "import torch.nn.functional as F"
   ]
  },
  {
   "cell_type": "code",
   "execution_count": 23,
   "id": "916ffd7f",
   "metadata": {},
   "outputs": [
    {
     "name": "stdout",
     "output_type": "stream",
     "text": [
      "Files already downloaded and verified\n",
      "Files already downloaded and verified\n"
     ]
    }
   ],
   "source": [
    "# CIFAR-10\n",
    "\n",
    "batch_size = 128\n",
    "\n",
    "norm_mean = torch.tensor([0.4914, 0.4822, 0.4465])\n",
    "norm_std = torch.tensor([0.2470, 0.2435, 0.2616])\n",
    "transform = transforms.Compose([\n",
    "    transforms.ToTensor(),\n",
    "    transforms.Normalize(norm_mean, norm_std)\n",
    "])\n",
    "train_set = datasets.CIFAR10(root='./data', train=True, download=True, transform=transform)\n",
    "test_set = datasets.CIFAR10(root='./data', train=False, download=True, transform=transform)\n",
    "\n",
    "train_dataloader = DataLoader(train_set, batch_size=batch_size, shuffle=True, num_workers=10)\n",
    "test_dataloader = DataLoader(test_set, batch_size=batch_size, num_workers=10)"
   ]
  },
  {
   "cell_type": "code",
   "execution_count": 15,
   "id": "8232996f",
   "metadata": {},
   "outputs": [
    {
     "data": {
      "text/plain": [
       "torch.Size([128, 3, 32, 32])"
      ]
     },
     "execution_count": 15,
     "metadata": {},
     "output_type": "execute_result"
    }
   ],
   "source": [
    "next(iter(train_dataloader))[0].shape"
   ]
  },
  {
   "cell_type": "markdown",
   "id": "8c6ea65e",
   "metadata": {},
   "source": [
    "# Training EBMs using MLE with MCMC sampling"
   ]
  },
  {
   "cell_type": "code",
   "execution_count": 30,
   "id": "94ed6060",
   "metadata": {},
   "outputs": [],
   "source": [
    "# Model p(x) = e^{-E(x)} / Z\n",
    "\n",
    "class EBM(nn.Module):\n",
    "    def __init__(self, hidden_dim=256):\n",
    "        super(EBM, self).__init__()\n",
    "        \n",
    "        # 卷积 Backbone\n",
    "        self.conv_net = nn.Sequential(\n",
    "            nn.Conv2d(3, 64, kernel_size=3, stride=1, padding=1),  # 32x32\n",
    "            nn.BatchNorm2d(64),\n",
    "            nn.ReLU(inplace=True),\n",
    "\n",
    "            nn.Conv2d(64, 128, kernel_size=4, stride=2, padding=1),  # 16x16\n",
    "            nn.BatchNorm2d(128),\n",
    "            nn.ReLU(inplace=True),\n",
    "\n",
    "            nn.Conv2d(128, 256, kernel_size=4, stride=2, padding=1),  # 8x8\n",
    "            nn.BatchNorm2d(256),\n",
    "            nn.ReLU(inplace=True),\n",
    "\n",
    "            nn.Conv2d(256, 512, kernel_size=4, stride=2, padding=1),  # 4x4\n",
    "            nn.BatchNorm2d(512),\n",
    "            nn.ReLU(inplace=True),\n",
    "        )\n",
    "        \n",
    "        # 映射到标量能量\n",
    "        self.fc = nn.Sequential(\n",
    "            nn.Flatten(),\n",
    "            nn.Linear(512*4*4, hidden_dim),\n",
    "            nn.ReLU(inplace=True),\n",
    "            nn.Linear(hidden_dim, 1)   # 输出 Energy\n",
    "        )\n",
    "    \n",
    "    def forward(self, x):\n",
    "        feat = self.conv_net(x)\n",
    "        energy = self.fc(feat)\n",
    "        return energy.squeeze(-1)  # 输出 shape: (batch,)\n",
    "    "
   ]
  },
  {
   "cell_type": "code",
   "execution_count": 39,
   "id": "835e62d1",
   "metadata": {},
   "outputs": [],
   "source": [
    "def parallel_langevin_mcmc(log_prob_fn, initial_samples, step_size=0.01, n_steps=1000):\n",
    "    \"\"\"\n",
    "    并行多链 Langevin MCMC 函数\n",
    "    Args:\n",
    "        log_prob_fn: 目标分布的对数概率函数 log p(x)\n",
    "                     输入 shape (n_chains, dim)\n",
    "                     输出 shape (n_chains,)\n",
    "        initial_samples: 初始样本 tensor, shape (n_chains, dim)\n",
    "        step_size: Langevin 步长\n",
    "        n_steps: 每条链的采样步数\n",
    "    Returns:\n",
    "        samples: shape (n_chains, n_steps, dim)\n",
    "    \"\"\"\n",
    "    x = initial_samples.clone()\n",
    "    n_chains, dim = x.shape\n",
    "    samples = torch.zeros(n_chains, n_steps, dim, device=x.device)\n",
    "\n",
    "    for t in range(n_steps):\n",
    "        x.requires_grad_(True)\n",
    "        log_prob = log_prob_fn(x)              # shape: (n_chains,)\n",
    "        grad = torch.autograd.grad(log_prob.sum(), x)[0]\n",
    "        noise = torch.randn_like(x)\n",
    "        x = x + 0.5 * step_size * grad + torch.sqrt(torch.tensor(step_size)) * noise\n",
    "        samples[:, t, :] = x.detach()\n",
    "    \n",
    "    return samples\n",
    "\n",
    "def langevin_sampling(model, x_init, n_steps=200, step_size=0.01, noise_scale=0.01, clamp=(-1, 1)):\n",
    "    \"\"\"\n",
    "    从能量模型采样\n",
    "    Args:\n",
    "        x_init: 初始图像, shape (B, C, H, W)\n",
    "        model: EBM\n",
    "        n_steps: Langevin 步数\n",
    "        step_size: 梯度步长\n",
    "        noise_scale: 噪声尺度\n",
    "        clamp: 图像值范围\n",
    "    Returns:\n",
    "        x_neg: 采样后的图像\n",
    "    \"\"\"\n",
    "    x = x_init.clone().detach()\n",
    "    for _ in range(n_steps):\n",
    "        x.requires_grad_(True)\n",
    "        energy = model(x)\n",
    "        grad = torch.autograd.grad(energy.sum(), x)[0]\n",
    "        # Langevin 更新\n",
    "        noise = torch.randn_like(x) * noise_scale\n",
    "        x = x - 0.5 * step_size * grad + noise\n",
    "        # 保持像素范围 [0,1]\n",
    "        x = x.clamp(*clamp).detach()\n",
    "    return x\n"
   ]
  },
  {
   "cell_type": "code",
   "execution_count": null,
   "id": "1ad51910",
   "metadata": {},
   "outputs": [
    {
     "name": "stdout",
     "output_type": "stream",
     "text": [
      "Epoch:  0\n",
      "loss: 0.087524  [  0/391]\n",
      "loss: -166.681183  [ 50/391]\n",
      "loss: -521.161743  [100/391]\n",
      "loss: -997.901367  [150/391]\n",
      "loss: -1607.284424  [200/391]\n",
      "loss: -2361.301270  [250/391]\n",
      "loss: -3270.023438  [300/391]\n",
      "loss: -4343.725098  [350/391]\n",
      "loss: -5326.732422  [390/391]\n",
      "Epoch:  1\n",
      "loss: -5352.578125  [  0/391]\n",
      "loss: -6747.754395  [ 50/391]\n",
      "loss: -8328.219727  [100/391]\n",
      "loss: -10105.615234  [150/391]\n",
      "loss: -12083.794922  [200/391]\n",
      "loss: -14267.084961  [250/391]\n",
      "loss: -16660.207031  [300/391]\n",
      "loss: -19268.425781  [350/391]\n",
      "loss: -21512.683594  [390/391]\n",
      "Epoch:  2\n",
      "loss: -21572.201172  [  0/391]\n",
      "loss: -24582.423828  [ 50/391]\n",
      "loss: -27818.328125  [100/391]\n",
      "loss: -31282.498047  [150/391]\n",
      "loss: -34988.542969  [200/391]\n",
      "loss: -38932.148438  [250/391]\n",
      "loss: -43013.000000  [300/391]\n",
      "loss: -47532.394531  [350/391]\n",
      "loss: -51254.445312  [390/391]\n",
      "Epoch:  3\n",
      "loss: -51350.460938  [  0/391]\n",
      "loss: -56219.882812  [ 50/391]\n",
      "loss: -61355.187500  [100/391]\n",
      "loss: -66726.539062  [150/391]\n",
      "loss: -72371.695312  [200/391]\n",
      "loss: -78268.984375  [250/391]\n",
      "loss: -84423.062500  [300/391]\n",
      "loss: 59.363281  [350/391]\n",
      "loss: -9.492188  [390/391]\n",
      "Epoch:  4\n",
      "loss: -0.777344  [  0/391]\n",
      "loss: 24.179688  [ 50/391]\n",
      "loss: -2.410156  [100/391]\n",
      "loss: -26.648438  [150/391]\n",
      "loss: 27.867188  [200/391]\n",
      "loss: 23.652344  [250/391]\n",
      "loss: -59.792969  [300/391]\n",
      "loss: 17.785156  [350/391]\n",
      "loss: -2.718750  [390/391]\n"
     ]
    }
   ],
   "source": [
    "# train\n",
    "epochs = 5\n",
    "device = torch.device('cuda' if torch.cuda.is_available() else 'cpu')\n",
    "learning_rate = 1e-4\n",
    "\n",
    "# MCMC\n",
    "sample_batchsize = 100\n",
    "step_size = 0.01\n",
    "n_steps = 1000\n",
    "\n",
    "image_size = (3, 32, 32)\n",
    "model = EBM(256).to(device)\n",
    "optimizer = torch.optim.Adam(model.parameters(), lr=learning_rate)\n",
    "\n",
    "for epoch in range(epochs):\n",
    "    print(\"Epoch: \", epoch)\n",
    "    epoch_nums = len(train_dataloader)\n",
    "    for idx, (X, _) in enumerate(train_dataloader):\n",
    "        X = X.to(device)\n",
    "        E = model(X).mean()\n",
    "        x0 = torch.randn(sample_batchsize, *image_size).to(device)\n",
    "        samples = langevin_sampling(model, x0)\n",
    "        logZ = -model(samples).mean()\n",
    "        loss = E + 1.0 / batch_size * logZ\n",
    "        \n",
    "        optimizer.zero_grad()\n",
    "        loss.backward()\n",
    "        optimizer.step()\n",
    "        \n",
    "        if idx % 50 == 0 or idx == epoch_nums - 1:\n",
    "            print(f\"loss: {E:>7f}  [{idx:>3d}/{epoch_nums:>3d}]\")"
   ]
  },
  {
   "cell_type": "code",
   "execution_count": null,
   "id": "e4e07f7d",
   "metadata": {},
   "outputs": [],
   "source": []
  }
 ],
 "metadata": {
  "kernelspec": {
   "display_name": "diffusion",
   "language": "python",
   "name": "python3"
  },
  "language_info": {
   "codemirror_mode": {
    "name": "ipython",
    "version": 3
   },
   "file_extension": ".py",
   "mimetype": "text/x-python",
   "name": "python",
   "nbconvert_exporter": "python",
   "pygments_lexer": "ipython3",
   "version": "3.10.18"
  }
 },
 "nbformat": 4,
 "nbformat_minor": 5
}
