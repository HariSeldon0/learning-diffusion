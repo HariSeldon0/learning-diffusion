{
 "cells": [
  {
   "cell_type": "code",
   "execution_count": 30,
   "id": "77df7361",
   "metadata": {},
   "outputs": [],
   "source": [
    "import torch\n",
    "from torch import nn\n",
    "import torch.nn.functional as F\n",
    "from torch.utils.data import Dataset, DataLoader\n",
    "from torchvision import datasets, transforms\n",
    "from collections import OrderedDict"
   ]
  },
  {
   "cell_type": "code",
   "execution_count": 62,
   "id": "3f26eeb6",
   "metadata": {},
   "outputs": [],
   "source": [
    "class Test(nn.Module):\n",
    "    def __init__(self) -> None:\n",
    "        super().__init__()\n",
    "        self.seq = nn.Sequential(OrderedDict({\n",
    "            'linear1': nn.Linear(1, 2), \n",
    "            'ReLU1': nn.ReLU(),\n",
    "            'Linear2': nn.Linear(2, 2)}))\n",
    "        \n",
    "    def forward(self, x):\n",
    "        x = self.seq(x)\n",
    "        return x\n",
    "    \n",
    "t = Test()\n",
    "x = torch.tensor(1.0, requires_grad=True)\n",
    "optimizer = torch.optim.Adam(t.parameters())"
   ]
  },
  {
   "cell_type": "code",
   "execution_count": 63,
   "id": "babacfa9",
   "metadata": {},
   "outputs": [
    {
     "data": {
      "text/plain": [
       "('seq.linear1.weight',\n",
       " Parameter containing:\n",
       " tensor([[-0.4277],\n",
       "         [-0.5577]], requires_grad=True))"
      ]
     },
     "execution_count": 63,
     "metadata": {},
     "output_type": "execute_result"
    }
   ],
   "source": [
    "list(t.named_parameters())[0]"
   ]
  },
  {
   "cell_type": "code",
   "execution_count": 67,
   "id": "04fa1ed4",
   "metadata": {},
   "outputs": [],
   "source": [
    "class Model(nn.Module):\n",
    "    def __init__(self, *args, **kwargs) -> None:\n",
    "        super().__init__(*args, **kwargs)\n",
    "        self.tensor = torch.tensor(1.0, requires_grad=True)\n",
    "        self.param = nn.Parameter(torch.tensor(2.0))\n",
    "        self.register_parameter('manual', nn.Parameter(torch.tensor(2.0)))\n",
    "        self.register_parameter('2', self.param)\n",
    "        self.buf2 = nn.Buffer(torch.tensor(3.0), persistent=False)\n",
    "        \n",
    "        self.buffer = nn.parameter.Buffer(torch.tensor(3.0))\n",
    "        self.submodule = nn.Linear(2, 4)\n",
    "        \n",
    "    def forward(self):\n",
    "        print('666')"
   ]
  },
  {
   "cell_type": "code",
   "execution_count": 68,
   "id": "14b1deab",
   "metadata": {},
   "outputs": [],
   "source": [
    "my = Model()"
   ]
  },
  {
   "cell_type": "code",
   "execution_count": 70,
   "id": "833992ca",
   "metadata": {},
   "outputs": [
    {
     "name": "stdout",
     "output_type": "stream",
     "text": [
      "('', Model(\n",
      "  (submodule): Linear(in_features=2, out_features=4, bias=True)\n",
      "))\n",
      "\n",
      "('submodule', Linear(in_features=2, out_features=4, bias=True))\n",
      "\n"
     ]
    }
   ],
   "source": [
    "for i in my.named_modules():\n",
    "    print(i)\n",
    "    print()"
   ]
  },
  {
   "cell_type": "code",
   "execution_count": 59,
   "id": "5e279782",
   "metadata": {},
   "outputs": [
    {
     "data": {
      "text/plain": [
       "tensor(1.)"
      ]
     },
     "execution_count": 59,
     "metadata": {},
     "output_type": "execute_result"
    }
   ],
   "source": [
    "my.buf"
   ]
  },
  {
   "cell_type": "code",
   "execution_count": 22,
   "id": "057375f8",
   "metadata": {},
   "outputs": [
    {
     "name": "stdout",
     "output_type": "stream",
     "text": [
      "param\n",
      "Parameter containing:\n",
      "tensor(2., requires_grad=True)\n",
      "manual\n",
      "Parameter containing:\n",
      "tensor(2., requires_grad=True)\n",
      "submodule.weight\n",
      "Parameter containing:\n",
      "tensor([[ 0.5277, -0.6729],\n",
      "        [-0.3889, -0.3282],\n",
      "        [-0.1269,  0.5668],\n",
      "        [ 0.4076, -0.5337]], requires_grad=True)\n",
      "submodule.bias\n",
      "Parameter containing:\n",
      "tensor([-0.1100, -0.0587, -0.4846,  0.3501], requires_grad=True)\n"
     ]
    }
   ],
   "source": [
    "for name, param in my.named_parameters():\n",
    "    print(name)\n",
    "    print(param)"
   ]
  },
  {
   "cell_type": "code",
   "execution_count": 45,
   "id": "2d9a61b3",
   "metadata": {},
   "outputs": [
    {
     "name": "stdout",
     "output_type": "stream",
     "text": [
      "<class 'torch.nn.parameter.Parameter'> torch.Size([])\n",
      "<class 'torch.nn.parameter.Parameter'> torch.Size([])\n",
      "<class 'torch.nn.parameter.Parameter'> torch.Size([4, 2])\n",
      "<class 'torch.nn.parameter.Parameter'> torch.Size([4])\n"
     ]
    }
   ],
   "source": [
    "for param in my.parameters():\n",
    "    print(type(param), param.size())"
   ]
  },
  {
   "cell_type": "code",
   "execution_count": 75,
   "id": "737c43e5",
   "metadata": {},
   "outputs": [],
   "source": [
    "class MM(nn.Module):\n",
    "    def __init__(self, *args, **kwargs) -> None:\n",
    "        super().__init__(*args, **kwargs)\n",
    "        self.linear = nn.Linear(2, 4)\n",
    "        self.my = Model()"
   ]
  },
  {
   "cell_type": "code",
   "execution_count": 76,
   "id": "14733728",
   "metadata": {},
   "outputs": [],
   "source": [
    "mm = MM()"
   ]
  },
  {
   "cell_type": "code",
   "execution_count": 79,
   "id": "3d67709f",
   "metadata": {},
   "outputs": [
    {
     "name": "stdout",
     "output_type": "stream",
     "text": [
      "('MM', MM(\n",
      "  (linear): Linear(in_features=2, out_features=4, bias=True)\n",
      "  (my): Model(\n",
      "    (submodule): Linear(in_features=2, out_features=4, bias=True)\n",
      "  )\n",
      "))\n",
      "('MM.linear', Linear(in_features=2, out_features=4, bias=True))\n",
      "('MM.my', Model(\n",
      "  (submodule): Linear(in_features=2, out_features=4, bias=True)\n",
      "))\n",
      "('MM.my.submodule', Linear(in_features=2, out_features=4, bias=True))\n"
     ]
    }
   ],
   "source": [
    "for i in mm.named_modules(prefix='MM'):\n",
    "    print(i)"
   ]
  },
  {
   "cell_type": "code",
   "execution_count": 78,
   "id": "0d261cec",
   "metadata": {},
   "outputs": [
    {
     "name": "stdout",
     "output_type": "stream",
     "text": [
      "('linear', Linear(in_features=2, out_features=4, bias=True))\n",
      "('my', Model(\n",
      "  (submodule): Linear(in_features=2, out_features=4, bias=True)\n",
      "))\n"
     ]
    }
   ],
   "source": [
    "for i in mm.named_children():\n",
    "    print(i)"
   ]
  },
  {
   "cell_type": "code",
   "execution_count": 84,
   "id": "36458c58",
   "metadata": {},
   "outputs": [
    {
     "name": "stdout",
     "output_type": "stream",
     "text": [
      "('linear.weight', Parameter containing:\n",
      "tensor([[-0.0606, -0.1771],\n",
      "        [-0.1730, -0.1171],\n",
      "        [-0.2045,  0.5385],\n",
      "        [ 0.6317, -0.2190]], requires_grad=True))\n",
      "\n",
      "('linear.bias', Parameter containing:\n",
      "tensor([-0.6745,  0.4009,  0.4866,  0.2634], requires_grad=True))\n",
      "\n",
      "('my.param', Parameter containing:\n",
      "tensor(2., requires_grad=True))\n",
      "\n",
      "('my.manual', Parameter containing:\n",
      "tensor(2., requires_grad=True))\n",
      "\n",
      "('my.submodule.weight', Parameter containing:\n",
      "tensor([[-0.4292,  0.3409],\n",
      "        [ 0.5350, -0.6695],\n",
      "        [ 0.3177, -0.4256],\n",
      "        [-0.6050, -0.1262]], requires_grad=True))\n",
      "\n",
      "('my.submodule.bias', Parameter containing:\n",
      "tensor([ 0.5736,  0.4845, -0.5701,  0.3365], requires_grad=True))\n",
      "\n"
     ]
    }
   ],
   "source": [
    "for i in mm.named_parameters():\n",
    "    print(i)\n",
    "    print()"
   ]
  },
  {
   "cell_type": "code",
   "execution_count": 89,
   "id": "d9362eb2",
   "metadata": {},
   "outputs": [
    {
     "name": "stdout",
     "output_type": "stream",
     "text": [
      "Linear\n",
      "Linear\n",
      "Model\n",
      "MM\n"
     ]
    },
    {
     "data": {
      "text/plain": [
       "MM(\n",
       "  (linear): Linear(in_features=2, out_features=4, bias=True)\n",
       "  (my): Model(\n",
       "    (submodule): Linear(in_features=2, out_features=4, bias=True)\n",
       "  )\n",
       ")"
      ]
     },
     "execution_count": 89,
     "metadata": {},
     "output_type": "execute_result"
    }
   ],
   "source": [
    "mm.apply(lambda x: print(x._get_name()))"
   ]
  },
  {
   "cell_type": "code",
   "execution_count": 91,
   "id": "0933e9b7",
   "metadata": {},
   "outputs": [],
   "source": [
    "class A(nn.Module):\n",
    "    def __init__(self, *args, **kwargs) -> None:\n",
    "        super().__init__(*args, **kwargs)\n",
    "        self.A_param = nn.Parameter(torch.tensor(1.0))\n",
    "        self.A_Linear = nn.Linear(1, 2)\n",
    "        \n",
    "class B(nn.Module):\n",
    "    def __init__(self, *args, **kwargs) -> None:\n",
    "        super().__init__(*args, **kwargs)\n",
    "        self.B_param = nn.Parameter(torch.tensor(1.0))\n",
    "        self.B_RNN = nn.RNN(1, 2)\n",
    "        self.B_A = A()\n",
    "        "
   ]
  },
  {
   "cell_type": "code",
   "execution_count": 92,
   "id": "c5fc8cb7",
   "metadata": {},
   "outputs": [],
   "source": [
    "b = B()"
   ]
  },
  {
   "cell_type": "code",
   "execution_count": 98,
   "id": "deb3ff40",
   "metadata": {},
   "outputs": [
    {
     "name": "stdout",
     "output_type": "stream",
     "text": [
      "RNN(1, 2) \n",
      "\n",
      "Linear(in_features=1, out_features=2, bias=True) \n",
      "\n",
      "A(\n",
      "  (A_Linear): Linear(in_features=1, out_features=2, bias=True)\n",
      ") \n",
      "\n",
      "B(\n",
      "  (B_RNN): RNN(1, 2)\n",
      "  (B_A): A(\n",
      "    (A_Linear): Linear(in_features=1, out_features=2, bias=True)\n",
      "  )\n",
      ") \n",
      "\n"
     ]
    }
   ],
   "source": [
    "c = b.apply(lambda x: print(x, '\\n'))"
   ]
  },
  {
   "cell_type": "code",
   "execution_count": 96,
   "id": "5f5d58d6",
   "metadata": {},
   "outputs": [
    {
     "name": "stdout",
     "output_type": "stream",
     "text": [
      "('B_RNN', RNN(1, 2))\n",
      "('B_A', A(\n",
      "  (A_Linear): Linear(in_features=1, out_features=2, bias=True)\n",
      "))\n"
     ]
    }
   ],
   "source": [
    "for i in b.named_children():\n",
    "    print(i)"
   ]
  },
  {
   "cell_type": "code",
   "execution_count": 103,
   "id": "5fce3789",
   "metadata": {},
   "outputs": [
    {
     "data": {
      "text/plain": [
       "OrderedDict([('B_param', tensor(1.)),\n",
       "             ('B_RNN.weight_ih_l0', tensor([[0.0687],\n",
       "                      [0.1565]])),\n",
       "             ('B_RNN.weight_hh_l0',\n",
       "              tensor([[ 0.3150, -0.5467],\n",
       "                      [-0.2539, -0.5615]])),\n",
       "             ('B_RNN.bias_ih_l0', tensor([-0.1778,  0.2578])),\n",
       "             ('B_RNN.bias_hh_l0', tensor([0.2587, 0.0184])),\n",
       "             ('B_A.A_param', tensor(1.)),\n",
       "             ('B_A.A_Linear.weight',\n",
       "              tensor([[ 0.9959],\n",
       "                      [-0.0425]])),\n",
       "             ('B_A.A_Linear.bias', tensor([-0.5509,  0.6909]))])"
      ]
     },
     "execution_count": 103,
     "metadata": {},
     "output_type": "execute_result"
    }
   ],
   "source": [
    "b.state_dict()"
   ]
  }
 ],
 "metadata": {
  "kernelspec": {
   "display_name": "diffusion",
   "language": "python",
   "name": "python3"
  },
  "language_info": {
   "codemirror_mode": {
    "name": "ipython",
    "version": 3
   },
   "file_extension": ".py",
   "mimetype": "text/x-python",
   "name": "python",
   "nbconvert_exporter": "python",
   "pygments_lexer": "ipython3",
   "version": "3.10.18"
  }
 },
 "nbformat": 4,
 "nbformat_minor": 5
}
